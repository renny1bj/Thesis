{
 "cells": [
  {
   "cell_type": "markdown",
   "metadata": {},
   "source": [
    "## Poststratification weighing and sampling"
   ]
  },
  {
   "cell_type": "markdown",
   "metadata": {},
   "source": [
    "### 1. Import libraries and dataset"
   ]
  },
  {
   "cell_type": "code",
   "execution_count": 2,
   "metadata": {},
   "outputs": [],
   "source": [
    "import numpy as np\n",
    "import pandas as pd\n",
    "import matplotlib.pyplot as plt\n",
    "import seaborn as sns\n",
    "plt.style.use('ggplot')"
   ]
  },
  {
   "cell_type": "code",
   "execution_count": 3,
   "metadata": {},
   "outputs": [],
   "source": [
    "train= pd.read_csv('Train_v2.csv')"
   ]
  },
  {
   "cell_type": "code",
   "execution_count": 4,
   "metadata": {},
   "outputs": [],
   "source": [
    "# Creation of function to convert the age (continuous variable) to categorical variable.\n",
    "def age_cat(age):\n",
    "    if age >= 15 and age <=65:\n",
    "        return \"15-65\"\n",
    "    else:\n",
    "        return \"above 65\"\n",
    "train['age_cat'] = train['age_of_respondent'].apply(age_cat)"
   ]
  },
  {
   "cell_type": "markdown",
   "metadata": {},
   "source": [
    "### 2. Loading in the actual popoulation"
   ]
  },
  {
   "cell_type": "code",
   "execution_count": 5,
   "metadata": {},
   "outputs": [],
   "source": [
    "Kenya= {'Country': 'Kenya', 'year': '2018', 'Population': 51390000,'Male_percent': 49.684, 'Female_percent': 50.316, 'Median_Age': 19.1, 'Pop_den':90, 'Urban_pop': 26.8, '0-14':39.78, '15-64': 57.88, 'above_65': 2.34}\n",
    "Rwanda= {'Country': 'Rwanda','year': '2016', 'Population': 11668827,'Male_percent': 49.117, 'Female_percent': 50.883, 'Median_Age': 19.6, 'Pop_den':525, 'Urban_pop': 17.4, '0-14':40.95, '15-64': 56.91, 'above_65': 2.77}\n",
    "Uganda = {'Country': 'Uganda','year': '2018', 'Population': 42720000,'Male_percent': 49.23, 'Female_percent': 50.78, 'Median_Age': 16.1, 'Pop_den':117, 'Urban_pop': 24.6, '0-14':46.93, '15-64': 51.13, 'above_65': 1.94}\n",
    "Tanzania = {'Country': 'Tanzania','year': '2017', 'Population': 54660000,'Male_percent': 49.936, 'Female_percent': 50.064, 'Median_Age': 17.6, 'Pop_den':62, 'Urban_pop': 34.4, '0-14':44.32, '15-64': 53.1, 'above_65': 2.58}"
   ]
  },
  {
   "cell_type": "code",
   "execution_count": 6,
   "metadata": {},
   "outputs": [],
   "source": [
    "# creating dataframe for all values\n",
    "Dem=pd.DataFrame([Kenya,Rwanda,Uganda,Tanzania])"
   ]
  },
  {
   "cell_type": "code",
   "execution_count": 7,
   "metadata": {},
   "outputs": [
    {
     "data": {
      "text/html": [
       "<div>\n",
       "<style scoped>\n",
       "    .dataframe tbody tr th:only-of-type {\n",
       "        vertical-align: middle;\n",
       "    }\n",
       "\n",
       "    .dataframe tbody tr th {\n",
       "        vertical-align: top;\n",
       "    }\n",
       "\n",
       "    .dataframe thead th {\n",
       "        text-align: right;\n",
       "    }\n",
       "</style>\n",
       "<table border=\"1\" class=\"dataframe\">\n",
       "  <thead>\n",
       "    <tr style=\"text-align: right;\">\n",
       "      <th></th>\n",
       "      <th>Country</th>\n",
       "      <th>year</th>\n",
       "      <th>Population</th>\n",
       "      <th>Male_percent</th>\n",
       "      <th>Female_percent</th>\n",
       "      <th>Median_Age</th>\n",
       "      <th>Pop_den</th>\n",
       "      <th>Urban_pop</th>\n",
       "      <th>0-14</th>\n",
       "      <th>15-64</th>\n",
       "      <th>above_65</th>\n",
       "    </tr>\n",
       "  </thead>\n",
       "  <tbody>\n",
       "    <tr>\n",
       "      <th>0</th>\n",
       "      <td>Kenya</td>\n",
       "      <td>2018</td>\n",
       "      <td>51390000</td>\n",
       "      <td>49.684</td>\n",
       "      <td>50.316</td>\n",
       "      <td>19.1</td>\n",
       "      <td>90</td>\n",
       "      <td>26.8</td>\n",
       "      <td>39.78</td>\n",
       "      <td>57.88</td>\n",
       "      <td>2.34</td>\n",
       "    </tr>\n",
       "    <tr>\n",
       "      <th>1</th>\n",
       "      <td>Rwanda</td>\n",
       "      <td>2016</td>\n",
       "      <td>11668827</td>\n",
       "      <td>49.117</td>\n",
       "      <td>50.883</td>\n",
       "      <td>19.6</td>\n",
       "      <td>525</td>\n",
       "      <td>17.4</td>\n",
       "      <td>40.95</td>\n",
       "      <td>56.91</td>\n",
       "      <td>2.77</td>\n",
       "    </tr>\n",
       "    <tr>\n",
       "      <th>2</th>\n",
       "      <td>Uganda</td>\n",
       "      <td>2018</td>\n",
       "      <td>42720000</td>\n",
       "      <td>49.230</td>\n",
       "      <td>50.780</td>\n",
       "      <td>16.1</td>\n",
       "      <td>117</td>\n",
       "      <td>24.6</td>\n",
       "      <td>46.93</td>\n",
       "      <td>51.13</td>\n",
       "      <td>1.94</td>\n",
       "    </tr>\n",
       "    <tr>\n",
       "      <th>3</th>\n",
       "      <td>Tanzania</td>\n",
       "      <td>2017</td>\n",
       "      <td>54660000</td>\n",
       "      <td>49.936</td>\n",
       "      <td>50.064</td>\n",
       "      <td>17.6</td>\n",
       "      <td>62</td>\n",
       "      <td>34.4</td>\n",
       "      <td>44.32</td>\n",
       "      <td>53.10</td>\n",
       "      <td>2.58</td>\n",
       "    </tr>\n",
       "  </tbody>\n",
       "</table>\n",
       "</div>"
      ],
      "text/plain": [
       "    Country  year  Population  Male_percent  Female_percent  Median_Age  \\\n",
       "0     Kenya  2018    51390000        49.684          50.316        19.1   \n",
       "1    Rwanda  2016    11668827        49.117          50.883        19.6   \n",
       "2    Uganda  2018    42720000        49.230          50.780        16.1   \n",
       "3  Tanzania  2017    54660000        49.936          50.064        17.6   \n",
       "\n",
       "   Pop_den  Urban_pop   0-14  15-64  above_65  \n",
       "0       90       26.8  39.78  57.88      2.34  \n",
       "1      525       17.4  40.95  56.91      2.77  \n",
       "2      117       24.6  46.93  51.13      1.94  \n",
       "3       62       34.4  44.32  53.10      2.58  "
      ]
     },
     "execution_count": 7,
     "metadata": {},
     "output_type": "execute_result"
    }
   ],
   "source": [
    "#visualize\n",
    "Dem"
   ]
  },
  {
   "cell_type": "code",
   "execution_count": 8,
   "metadata": {},
   "outputs": [],
   "source": [
    "# converting from percentage to actual numbers\n",
    "Dem['Acc_owner']= [0.81686*51390000, 0.5002*11668827, 0.68516*42720000, 0.46752*54660000]\n",
    "Dem['Male_percent']= Dem['Population']*(Dem['Male_percent']/100)\n",
    "Dem['Female_percent']= Dem['Population']*(Dem['Female_percent']/100)\n",
    "Dem['0-14']= Dem['Population']*(Dem['0-14']/100)\n",
    "Dem['15-64']= Dem['Population']*(Dem['15-64']/100)\n",
    "Dem['above_65']= Dem['Population']*(Dem['above_65']/100)\n",
    "Dem['Adult_Population']=Dem['0-14'] + Dem['15-64']"
   ]
  },
  {
   "cell_type": "markdown",
   "metadata": {},
   "source": [
    "## Poststratification Weighing"
   ]
  },
  {
   "cell_type": "markdown",
   "metadata": {},
   "source": [
    "In this section, we can weigh each datapoint based on their expected porportion and train a classifier based on these weights"
   ]
  },
  {
   "cell_type": "code",
   "execution_count": 9,
   "metadata": {},
   "outputs": [],
   "source": [
    "W=[]\n",
    "# Creation of list to assign weights for all data point\n",
    "for i in range (len(train)):\n",
    "    if train.loc[i].country=='Rwanda':\n",
    "        if train.loc[i].gender_of_respondent=='Female':\n",
    "            if train.loc[i].bank_account=='Yes':\n",
    "                P=0.45\n",
    "                W.append(P)\n",
    "            else: \n",
    "                P= 1-0.45\n",
    "                W.append(P)\n",
    "        else:\n",
    "            if train.loc[i].bank_account=='Yes':\n",
    "                P=0.557\n",
    "                W.append(P)\n",
    "            else: \n",
    "                P= 1-0.557\n",
    "                W.append(P)\n",
    "    elif train.loc[i].country=='Uganda':\n",
    "        if train.loc[i].gender_of_respondent=='Female':\n",
    "            if train.loc[i].bank_account=='Yes':\n",
    "                P=0.527\n",
    "                W.append(P)\n",
    "            else: \n",
    "                P= 1-0.527\n",
    "                W.append(P)\n",
    "        else:\n",
    "            if train.loc[i].bank_account=='Yes':\n",
    "                P=0.661\n",
    "                W.append(P)\n",
    "            else: \n",
    "                P= 1-0.661\n",
    "                W.append(P)\n",
    "    elif train.loc[i].country=='Tanzania':\n",
    "        if train.loc[i].gender_of_respondent=='Female':\n",
    "            if train.loc[i].bank_account=='Yes':\n",
    "                P=0.42\n",
    "                W.append(P)\n",
    "            else: \n",
    "                P= 1-0.42\n",
    "                W.append(P)\n",
    "        else:\n",
    "            if train.loc[i].bank_account=='Yes':\n",
    "                P=0.5155\n",
    "                W.append(P)\n",
    "            else: \n",
    "                P= 1-0.5155\n",
    "                W.append(P)\n",
    "    elif train.loc[i].country=='Kenya':\n",
    "        if train.loc[i].gender_of_respondent=='Female':\n",
    "            if train.loc[i].bank_account=='Yes':\n",
    "                P=0.777\n",
    "                W.append(P)\n",
    "            else: \n",
    "                P= 1-0.777\n",
    "                W.append(P)\n",
    "        else:\n",
    "            if train.loc[i].bank_account=='Yes':\n",
    "                P=0.858\n",
    "                W.append(P)\n",
    "            else: \n",
    "                P= 1-0.661\n",
    "                W.append(P)"
   ]
  },
  {
   "cell_type": "code",
   "execution_count": 10,
   "metadata": {},
   "outputs": [],
   "source": [
    "train['Postweight']=W"
   ]
  },
  {
   "cell_type": "code",
   "execution_count": 11,
   "metadata": {},
   "outputs": [
    {
     "data": {
      "text/html": [
       "<div>\n",
       "<style scoped>\n",
       "    .dataframe tbody tr th:only-of-type {\n",
       "        vertical-align: middle;\n",
       "    }\n",
       "\n",
       "    .dataframe tbody tr th {\n",
       "        vertical-align: top;\n",
       "    }\n",
       "\n",
       "    .dataframe thead th {\n",
       "        text-align: right;\n",
       "    }\n",
       "</style>\n",
       "<table border=\"1\" class=\"dataframe\">\n",
       "  <thead>\n",
       "    <tr style=\"text-align: right;\">\n",
       "      <th></th>\n",
       "      <th>country</th>\n",
       "      <th>year</th>\n",
       "      <th>uniqueid</th>\n",
       "      <th>bank_account</th>\n",
       "      <th>location_type</th>\n",
       "      <th>cellphone_access</th>\n",
       "      <th>household_size</th>\n",
       "      <th>age_of_respondent</th>\n",
       "      <th>gender_of_respondent</th>\n",
       "      <th>relationship_with_head</th>\n",
       "      <th>marital_status</th>\n",
       "      <th>education_level</th>\n",
       "      <th>job_type</th>\n",
       "      <th>age_cat</th>\n",
       "      <th>Postweight</th>\n",
       "    </tr>\n",
       "  </thead>\n",
       "  <tbody>\n",
       "    <tr>\n",
       "      <th>0</th>\n",
       "      <td>Kenya</td>\n",
       "      <td>2018</td>\n",
       "      <td>uniqueid_1</td>\n",
       "      <td>Yes</td>\n",
       "      <td>Rural</td>\n",
       "      <td>Yes</td>\n",
       "      <td>3</td>\n",
       "      <td>24</td>\n",
       "      <td>Female</td>\n",
       "      <td>Spouse</td>\n",
       "      <td>Married/Living together</td>\n",
       "      <td>Secondary education</td>\n",
       "      <td>Self employed</td>\n",
       "      <td>15-65</td>\n",
       "      <td>0.777</td>\n",
       "    </tr>\n",
       "    <tr>\n",
       "      <th>1</th>\n",
       "      <td>Kenya</td>\n",
       "      <td>2018</td>\n",
       "      <td>uniqueid_2</td>\n",
       "      <td>No</td>\n",
       "      <td>Rural</td>\n",
       "      <td>No</td>\n",
       "      <td>5</td>\n",
       "      <td>70</td>\n",
       "      <td>Female</td>\n",
       "      <td>Head of Household</td>\n",
       "      <td>Widowed</td>\n",
       "      <td>No formal education</td>\n",
       "      <td>Government Dependent</td>\n",
       "      <td>above 65</td>\n",
       "      <td>0.223</td>\n",
       "    </tr>\n",
       "    <tr>\n",
       "      <th>2</th>\n",
       "      <td>Kenya</td>\n",
       "      <td>2018</td>\n",
       "      <td>uniqueid_3</td>\n",
       "      <td>Yes</td>\n",
       "      <td>Urban</td>\n",
       "      <td>Yes</td>\n",
       "      <td>5</td>\n",
       "      <td>26</td>\n",
       "      <td>Male</td>\n",
       "      <td>Other relative</td>\n",
       "      <td>Single/Never Married</td>\n",
       "      <td>Vocational/Specialised training</td>\n",
       "      <td>Self employed</td>\n",
       "      <td>15-65</td>\n",
       "      <td>0.858</td>\n",
       "    </tr>\n",
       "    <tr>\n",
       "      <th>3</th>\n",
       "      <td>Kenya</td>\n",
       "      <td>2018</td>\n",
       "      <td>uniqueid_4</td>\n",
       "      <td>No</td>\n",
       "      <td>Rural</td>\n",
       "      <td>Yes</td>\n",
       "      <td>5</td>\n",
       "      <td>34</td>\n",
       "      <td>Female</td>\n",
       "      <td>Head of Household</td>\n",
       "      <td>Married/Living together</td>\n",
       "      <td>Primary education</td>\n",
       "      <td>Formally employed Private</td>\n",
       "      <td>15-65</td>\n",
       "      <td>0.223</td>\n",
       "    </tr>\n",
       "    <tr>\n",
       "      <th>4</th>\n",
       "      <td>Kenya</td>\n",
       "      <td>2018</td>\n",
       "      <td>uniqueid_5</td>\n",
       "      <td>No</td>\n",
       "      <td>Urban</td>\n",
       "      <td>No</td>\n",
       "      <td>8</td>\n",
       "      <td>26</td>\n",
       "      <td>Male</td>\n",
       "      <td>Child</td>\n",
       "      <td>Single/Never Married</td>\n",
       "      <td>Primary education</td>\n",
       "      <td>Informally employed</td>\n",
       "      <td>15-65</td>\n",
       "      <td>0.339</td>\n",
       "    </tr>\n",
       "    <tr>\n",
       "      <th>...</th>\n",
       "      <td>...</td>\n",
       "      <td>...</td>\n",
       "      <td>...</td>\n",
       "      <td>...</td>\n",
       "      <td>...</td>\n",
       "      <td>...</td>\n",
       "      <td>...</td>\n",
       "      <td>...</td>\n",
       "      <td>...</td>\n",
       "      <td>...</td>\n",
       "      <td>...</td>\n",
       "      <td>...</td>\n",
       "      <td>...</td>\n",
       "      <td>...</td>\n",
       "      <td>...</td>\n",
       "    </tr>\n",
       "    <tr>\n",
       "      <th>23519</th>\n",
       "      <td>Uganda</td>\n",
       "      <td>2018</td>\n",
       "      <td>uniqueid_2113</td>\n",
       "      <td>No</td>\n",
       "      <td>Rural</td>\n",
       "      <td>Yes</td>\n",
       "      <td>4</td>\n",
       "      <td>48</td>\n",
       "      <td>Female</td>\n",
       "      <td>Head of Household</td>\n",
       "      <td>Divorced/Seperated</td>\n",
       "      <td>No formal education</td>\n",
       "      <td>Other Income</td>\n",
       "      <td>15-65</td>\n",
       "      <td>0.473</td>\n",
       "    </tr>\n",
       "    <tr>\n",
       "      <th>23520</th>\n",
       "      <td>Uganda</td>\n",
       "      <td>2018</td>\n",
       "      <td>uniqueid_2114</td>\n",
       "      <td>No</td>\n",
       "      <td>Rural</td>\n",
       "      <td>Yes</td>\n",
       "      <td>2</td>\n",
       "      <td>27</td>\n",
       "      <td>Female</td>\n",
       "      <td>Head of Household</td>\n",
       "      <td>Single/Never Married</td>\n",
       "      <td>Secondary education</td>\n",
       "      <td>Other Income</td>\n",
       "      <td>15-65</td>\n",
       "      <td>0.473</td>\n",
       "    </tr>\n",
       "    <tr>\n",
       "      <th>23521</th>\n",
       "      <td>Uganda</td>\n",
       "      <td>2018</td>\n",
       "      <td>uniqueid_2115</td>\n",
       "      <td>No</td>\n",
       "      <td>Rural</td>\n",
       "      <td>Yes</td>\n",
       "      <td>5</td>\n",
       "      <td>27</td>\n",
       "      <td>Female</td>\n",
       "      <td>Parent</td>\n",
       "      <td>Widowed</td>\n",
       "      <td>Primary education</td>\n",
       "      <td>Other Income</td>\n",
       "      <td>15-65</td>\n",
       "      <td>0.473</td>\n",
       "    </tr>\n",
       "    <tr>\n",
       "      <th>23522</th>\n",
       "      <td>Uganda</td>\n",
       "      <td>2018</td>\n",
       "      <td>uniqueid_2116</td>\n",
       "      <td>No</td>\n",
       "      <td>Urban</td>\n",
       "      <td>Yes</td>\n",
       "      <td>7</td>\n",
       "      <td>30</td>\n",
       "      <td>Female</td>\n",
       "      <td>Parent</td>\n",
       "      <td>Divorced/Seperated</td>\n",
       "      <td>Secondary education</td>\n",
       "      <td>Self employed</td>\n",
       "      <td>15-65</td>\n",
       "      <td>0.473</td>\n",
       "    </tr>\n",
       "    <tr>\n",
       "      <th>23523</th>\n",
       "      <td>Uganda</td>\n",
       "      <td>2018</td>\n",
       "      <td>uniqueid_2117</td>\n",
       "      <td>No</td>\n",
       "      <td>Rural</td>\n",
       "      <td>Yes</td>\n",
       "      <td>10</td>\n",
       "      <td>20</td>\n",
       "      <td>Male</td>\n",
       "      <td>Child</td>\n",
       "      <td>Single/Never Married</td>\n",
       "      <td>Secondary education</td>\n",
       "      <td>No Income</td>\n",
       "      <td>15-65</td>\n",
       "      <td>0.339</td>\n",
       "    </tr>\n",
       "  </tbody>\n",
       "</table>\n",
       "<p>23524 rows × 15 columns</p>\n",
       "</div>"
      ],
      "text/plain": [
       "      country  year       uniqueid bank_account location_type  \\\n",
       "0       Kenya  2018     uniqueid_1          Yes         Rural   \n",
       "1       Kenya  2018     uniqueid_2           No         Rural   \n",
       "2       Kenya  2018     uniqueid_3          Yes         Urban   \n",
       "3       Kenya  2018     uniqueid_4           No         Rural   \n",
       "4       Kenya  2018     uniqueid_5           No         Urban   \n",
       "...       ...   ...            ...          ...           ...   \n",
       "23519  Uganda  2018  uniqueid_2113           No         Rural   \n",
       "23520  Uganda  2018  uniqueid_2114           No         Rural   \n",
       "23521  Uganda  2018  uniqueid_2115           No         Rural   \n",
       "23522  Uganda  2018  uniqueid_2116           No         Urban   \n",
       "23523  Uganda  2018  uniqueid_2117           No         Rural   \n",
       "\n",
       "      cellphone_access  household_size  age_of_respondent  \\\n",
       "0                  Yes               3                 24   \n",
       "1                   No               5                 70   \n",
       "2                  Yes               5                 26   \n",
       "3                  Yes               5                 34   \n",
       "4                   No               8                 26   \n",
       "...                ...             ...                ...   \n",
       "23519              Yes               4                 48   \n",
       "23520              Yes               2                 27   \n",
       "23521              Yes               5                 27   \n",
       "23522              Yes               7                 30   \n",
       "23523              Yes              10                 20   \n",
       "\n",
       "      gender_of_respondent relationship_with_head           marital_status  \\\n",
       "0                   Female                 Spouse  Married/Living together   \n",
       "1                   Female      Head of Household                  Widowed   \n",
       "2                     Male         Other relative     Single/Never Married   \n",
       "3                   Female      Head of Household  Married/Living together   \n",
       "4                     Male                  Child     Single/Never Married   \n",
       "...                    ...                    ...                      ...   \n",
       "23519               Female      Head of Household       Divorced/Seperated   \n",
       "23520               Female      Head of Household     Single/Never Married   \n",
       "23521               Female                 Parent                  Widowed   \n",
       "23522               Female                 Parent       Divorced/Seperated   \n",
       "23523                 Male                  Child     Single/Never Married   \n",
       "\n",
       "                       education_level                   job_type   age_cat  \\\n",
       "0                  Secondary education              Self employed     15-65   \n",
       "1                  No formal education       Government Dependent  above 65   \n",
       "2      Vocational/Specialised training              Self employed     15-65   \n",
       "3                    Primary education  Formally employed Private     15-65   \n",
       "4                    Primary education        Informally employed     15-65   \n",
       "...                                ...                        ...       ...   \n",
       "23519              No formal education               Other Income     15-65   \n",
       "23520              Secondary education               Other Income     15-65   \n",
       "23521                Primary education               Other Income     15-65   \n",
       "23522              Secondary education              Self employed     15-65   \n",
       "23523              Secondary education                  No Income     15-65   \n",
       "\n",
       "       Postweight  \n",
       "0           0.777  \n",
       "1           0.223  \n",
       "2           0.858  \n",
       "3           0.223  \n",
       "4           0.339  \n",
       "...           ...  \n",
       "23519       0.473  \n",
       "23520       0.473  \n",
       "23521       0.473  \n",
       "23522       0.473  \n",
       "23523       0.339  \n",
       "\n",
       "[23524 rows x 15 columns]"
      ]
     },
     "execution_count": 11,
     "metadata": {},
     "output_type": "execute_result"
    }
   ],
   "source": [
    "train"
   ]
  },
  {
   "cell_type": "markdown",
   "metadata": {},
   "source": [
    "## Poststratification Sampling"
   ]
  },
  {
   "cell_type": "markdown",
   "metadata": {},
   "source": [
    "### 3. Assigning weights to obtain sample frequency"
   ]
  },
  {
   "cell_type": "code",
   "execution_count": 12,
   "metadata": {},
   "outputs": [],
   "source": [
    "# Gathering all details\n",
    "PK={'Name':'Kenya','Exp':0.32,'Obs': 0.258,'Freq':6068}\n",
    "PR={'Name':'Rwanda','Exp':0.073,'Obs': 0.371,'Freq':8735}\n",
    "PU={'Name':'Uganda','Exp':0.267,'Obs': 0.089,'Freq':2101}\n",
    "PT={'Name':'Tanzania','Exp':0.34,'Obs': 0.281,'Freq':6620}"
   ]
  },
  {
   "cell_type": "code",
   "execution_count": 13,
   "metadata": {},
   "outputs": [],
   "source": [
    "frames=[PK,PR,PU,PT]"
   ]
  },
  {
   "cell_type": "code",
   "execution_count": 14,
   "metadata": {},
   "outputs": [],
   "source": [
    "Table=pd.DataFrame(frames)"
   ]
  },
  {
   "cell_type": "markdown",
   "metadata": {},
   "source": [
    "Calculating weight and expected frequency "
   ]
  },
  {
   "cell_type": "code",
   "execution_count": 15,
   "metadata": {},
   "outputs": [],
   "source": [
    "Table['Weight']=Table['Exp']/Table['Obs']\n",
    "Table['TFreq']=Table['Weight']*Table['Freq']\n",
    "Table['AFreq']= round((Table['TFreq']/sum(Table['TFreq']))*len(train))"
   ]
  },
  {
   "cell_type": "code",
   "execution_count": 16,
   "metadata": {},
   "outputs": [
    {
     "data": {
      "text/html": [
       "<div>\n",
       "<style scoped>\n",
       "    .dataframe tbody tr th:only-of-type {\n",
       "        vertical-align: middle;\n",
       "    }\n",
       "\n",
       "    .dataframe tbody tr th {\n",
       "        vertical-align: top;\n",
       "    }\n",
       "\n",
       "    .dataframe thead th {\n",
       "        text-align: right;\n",
       "    }\n",
       "</style>\n",
       "<table border=\"1\" class=\"dataframe\">\n",
       "  <thead>\n",
       "    <tr style=\"text-align: right;\">\n",
       "      <th></th>\n",
       "      <th>Name</th>\n",
       "      <th>Exp</th>\n",
       "      <th>Obs</th>\n",
       "      <th>Freq</th>\n",
       "      <th>Weight</th>\n",
       "      <th>TFreq</th>\n",
       "      <th>AFreq</th>\n",
       "    </tr>\n",
       "  </thead>\n",
       "  <tbody>\n",
       "    <tr>\n",
       "      <th>0</th>\n",
       "      <td>Kenya</td>\n",
       "      <td>0.320</td>\n",
       "      <td>0.258</td>\n",
       "      <td>6068</td>\n",
       "      <td>1.240310</td>\n",
       "      <td>7526.201550</td>\n",
       "      <td>7515.0</td>\n",
       "    </tr>\n",
       "    <tr>\n",
       "      <th>1</th>\n",
       "      <td>Rwanda</td>\n",
       "      <td>0.073</td>\n",
       "      <td>0.371</td>\n",
       "      <td>8735</td>\n",
       "      <td>0.196765</td>\n",
       "      <td>1718.746631</td>\n",
       "      <td>1716.0</td>\n",
       "    </tr>\n",
       "    <tr>\n",
       "      <th>2</th>\n",
       "      <td>Uganda</td>\n",
       "      <td>0.267</td>\n",
       "      <td>0.089</td>\n",
       "      <td>2101</td>\n",
       "      <td>3.000000</td>\n",
       "      <td>6303.000000</td>\n",
       "      <td>6294.0</td>\n",
       "    </tr>\n",
       "    <tr>\n",
       "      <th>3</th>\n",
       "      <td>Tanzania</td>\n",
       "      <td>0.340</td>\n",
       "      <td>0.281</td>\n",
       "      <td>6620</td>\n",
       "      <td>1.209964</td>\n",
       "      <td>8009.964413</td>\n",
       "      <td>7998.0</td>\n",
       "    </tr>\n",
       "  </tbody>\n",
       "</table>\n",
       "</div>"
      ],
      "text/plain": [
       "       Name    Exp    Obs  Freq    Weight        TFreq   AFreq\n",
       "0     Kenya  0.320  0.258  6068  1.240310  7526.201550  7515.0\n",
       "1    Rwanda  0.073  0.371  8735  0.196765  1718.746631  1716.0\n",
       "2    Uganda  0.267  0.089  2101  3.000000  6303.000000  6294.0\n",
       "3  Tanzania  0.340  0.281  6620  1.209964  8009.964413  7998.0"
      ]
     },
     "execution_count": 16,
     "metadata": {},
     "output_type": "execute_result"
    }
   ],
   "source": [
    "# visualize\n",
    "Table"
   ]
  },
  {
   "cell_type": "markdown",
   "metadata": {},
   "source": [
    "### obtaining maximum sample from data"
   ]
  },
  {
   "cell_type": "code",
   "execution_count": 17,
   "metadata": {},
   "outputs": [],
   "source": [
    "#convertion of the columns to numpy array for array comparism\n",
    "f=np.array(Table['AFreq'])\n",
    "h=np.array(Table['Freq'])\n",
    "#geting the ratio of expected samples\n",
    "g=np.round(f/min(f))"
   ]
  },
  {
   "cell_type": "code",
   "execution_count": 30,
   "metadata": {},
   "outputs": [],
   "source": [
    "### The function below extracts the maximum sample that can be obtained from any data without duplication\n",
    "# and absense of representation bias\n",
    "#Input: ratio of expected frequency (g), and frequency (h)\n",
    "#Output: maximum sample size (g)\n",
    "def get_max(g,h):\n",
    "    for i in range(int(min(h))):\n",
    "        for (a,b) in zip(g,h):\n",
    "            if a>b:\n",
    "                print ('Maximum Sample size that can be obtained is', sum(g), 'from', len(train))\n",
    "                return g\n",
    "                break\n",
    "\n",
    "        g+=1\n",
    "    print ('Maximum Sample size that can be obtained is', sum(g), 'from', len(train))\n",
    "    return g"
   ]
  },
  {
   "cell_type": "code",
   "execution_count": 19,
   "metadata": {},
   "outputs": [
    {
     "name": "stdout",
     "output_type": "stream",
     "text": [
      "Maximum Sample size that can be obtained is 8406.0 from 23524\n"
     ]
    }
   ],
   "source": [
    "Table['SFreq']=get_max(g,h)"
   ]
  },
  {
   "cell_type": "code",
   "execution_count": 20,
   "metadata": {},
   "outputs": [],
   "source": [
    "Table['new']=Table['SFreq']/sum(Table['SFreq'])"
   ]
  },
  {
   "cell_type": "code",
   "execution_count": 21,
   "metadata": {},
   "outputs": [
    {
     "data": {
      "text/html": [
       "<div>\n",
       "<style scoped>\n",
       "    .dataframe tbody tr th:only-of-type {\n",
       "        vertical-align: middle;\n",
       "    }\n",
       "\n",
       "    .dataframe tbody tr th {\n",
       "        vertical-align: top;\n",
       "    }\n",
       "\n",
       "    .dataframe thead th {\n",
       "        text-align: right;\n",
       "    }\n",
       "</style>\n",
       "<table border=\"1\" class=\"dataframe\">\n",
       "  <thead>\n",
       "    <tr style=\"text-align: right;\">\n",
       "      <th></th>\n",
       "      <th>Name</th>\n",
       "      <th>Exp</th>\n",
       "      <th>Obs</th>\n",
       "      <th>Freq</th>\n",
       "      <th>Weight</th>\n",
       "      <th>TFreq</th>\n",
       "      <th>AFreq</th>\n",
       "      <th>SFreq</th>\n",
       "      <th>new</th>\n",
       "    </tr>\n",
       "  </thead>\n",
       "  <tbody>\n",
       "    <tr>\n",
       "      <th>0</th>\n",
       "      <td>Kenya</td>\n",
       "      <td>0.320</td>\n",
       "      <td>0.258</td>\n",
       "      <td>6068</td>\n",
       "      <td>1.240310</td>\n",
       "      <td>7526.201550</td>\n",
       "      <td>7515.0</td>\n",
       "      <td>2102.0</td>\n",
       "      <td>0.250059</td>\n",
       "    </tr>\n",
       "    <tr>\n",
       "      <th>1</th>\n",
       "      <td>Rwanda</td>\n",
       "      <td>0.073</td>\n",
       "      <td>0.371</td>\n",
       "      <td>8735</td>\n",
       "      <td>0.196765</td>\n",
       "      <td>1718.746631</td>\n",
       "      <td>1716.0</td>\n",
       "      <td>2099.0</td>\n",
       "      <td>0.249703</td>\n",
       "    </tr>\n",
       "    <tr>\n",
       "      <th>2</th>\n",
       "      <td>Uganda</td>\n",
       "      <td>0.267</td>\n",
       "      <td>0.089</td>\n",
       "      <td>2101</td>\n",
       "      <td>3.000000</td>\n",
       "      <td>6303.000000</td>\n",
       "      <td>6294.0</td>\n",
       "      <td>2102.0</td>\n",
       "      <td>0.250059</td>\n",
       "    </tr>\n",
       "    <tr>\n",
       "      <th>3</th>\n",
       "      <td>Tanzania</td>\n",
       "      <td>0.340</td>\n",
       "      <td>0.281</td>\n",
       "      <td>6620</td>\n",
       "      <td>1.209964</td>\n",
       "      <td>8009.964413</td>\n",
       "      <td>7998.0</td>\n",
       "      <td>2103.0</td>\n",
       "      <td>0.250178</td>\n",
       "    </tr>\n",
       "  </tbody>\n",
       "</table>\n",
       "</div>"
      ],
      "text/plain": [
       "       Name    Exp    Obs  Freq    Weight        TFreq   AFreq   SFreq  \\\n",
       "0     Kenya  0.320  0.258  6068  1.240310  7526.201550  7515.0  2102.0   \n",
       "1    Rwanda  0.073  0.371  8735  0.196765  1718.746631  1716.0  2099.0   \n",
       "2    Uganda  0.267  0.089  2101  3.000000  6303.000000  6294.0  2102.0   \n",
       "3  Tanzania  0.340  0.281  6620  1.209964  8009.964413  7998.0  2103.0   \n",
       "\n",
       "        new  \n",
       "0  0.250059  \n",
       "1  0.249703  \n",
       "2  0.250059  \n",
       "3  0.250178  "
      ]
     },
     "execution_count": 21,
     "metadata": {},
     "output_type": "execute_result"
    }
   ],
   "source": [
    "#visualize\n",
    "Table"
   ]
  },
  {
   "cell_type": "markdown",
   "metadata": {},
   "source": [
    "### 4. Select sample based on the actual frequency of female and ages"
   ]
  },
  {
   "cell_type": "code",
   "execution_count": 22,
   "metadata": {},
   "outputs": [],
   "source": [
    "K=train.loc[train['country'] == 'Kenya']\n",
    "R=train.loc[train['country'] == 'Rwanda']\n",
    "U=train.loc[train['country'] == 'Uganda']\n",
    "T=train.loc[train['country'] == 'Tanzania']"
   ]
  },
  {
   "cell_type": "code",
   "execution_count": 23,
   "metadata": {},
   "outputs": [],
   "source": [
    "MS1=K.loc[K['gender_of_respondent'] == 'Male']\n",
    "FS1=K.loc[K['gender_of_respondent'] == 'Female']\n",
    "MS2=R.loc[R['gender_of_respondent'] == 'Male']\n",
    "FS2=R.loc[R['gender_of_respondent'] == 'Female']\n",
    "MS3=U.loc[U['gender_of_respondent'] == 'Male']\n",
    "FS3=U.loc[U['gender_of_respondent'] == 'Female']\n",
    "MS4=T.loc[T['gender_of_respondent'] == 'Male']\n",
    "FS4=T.loc[T['gender_of_respondent'] == 'Female']"
   ]
  },
  {
   "cell_type": "code",
   "execution_count": 24,
   "metadata": {},
   "outputs": [],
   "source": [
    "# selecting sample by statifing based on actual proportion\n",
    "S1=pd.concat([FS1.iloc[0:(int(round(0.503*2101)))],MS1.iloc[0:(int(round(0.497*2101)))]])\n",
    "S2=pd.concat([FS2.iloc[0:(int(round(0.51*526)))],MS2.iloc[0:(int(round(0.49*526)))]])\n",
    "S3=pd.concat([FS3.iloc[0:(int(round(0.508*2101)))],MS3.iloc[0:(int(round(0.492*2101)))]])\n",
    "S4=pd.concat([FS4.iloc[0:(int(round(0.50*2626)))],MS4.iloc[0:(int(round(0.50*2626)))]])"
   ]
  },
  {
   "cell_type": "code",
   "execution_count": 25,
   "metadata": {},
   "outputs": [],
   "source": [
    "Sample=pd.concat([S1,S2,S3,S4])"
   ]
  },
  {
   "cell_type": "markdown",
   "metadata": {},
   "source": [
    "### 5. Results"
   ]
  },
  {
   "cell_type": "code",
   "execution_count": 27,
   "metadata": {},
   "outputs": [
    {
     "data": {
      "text/plain": [
       "Tanzania    2626\n",
       "Kenya       2101\n",
       "Uganda      1783\n",
       "Rwanda       526\n",
       "dtype: int64"
      ]
     },
     "execution_count": 27,
     "metadata": {},
     "output_type": "execute_result"
    }
   ],
   "source": [
    "pd.value_counts(Sample['country'].values, sort=True)"
   ]
  },
  {
   "cell_type": "code",
   "execution_count": 28,
   "metadata": {},
   "outputs": [
    {
     "data": {
      "text/plain": [
       "15-65       6492\n",
       "above 65     544\n",
       "dtype: int64"
      ]
     },
     "execution_count": 28,
     "metadata": {},
     "output_type": "execute_result"
    }
   ],
   "source": [
    "pd.value_counts(Sample['age_cat'].values, sort=True)"
   ]
  },
  {
   "cell_type": "code",
   "execution_count": 29,
   "metadata": {},
   "outputs": [
    {
     "data": {
      "text/plain": [
       "Female    3705\n",
       "Male      3331\n",
       "dtype: int64"
      ]
     },
     "execution_count": 29,
     "metadata": {},
     "output_type": "execute_result"
    }
   ],
   "source": [
    "pd.value_counts(Sample['gender_of_respondent'].values, sort=True)"
   ]
  },
  {
   "cell_type": "code",
   "execution_count": 60,
   "metadata": {},
   "outputs": [],
   "source": [
    "gen=[{'attr': 'Female', 'afD': 0.527, 'bfD': 0.59, 'exp': 0.504 },{'attr': 'Male', 'afD': 0.473, 'bfD': 0.41, 'exp': 0.496 }]\n",
    "age=[{'attr': '15-65', 'afD': 0.923, 'bfD': 0.916, 'exp': 0.959 },{'attr': 'above 65', 'afD': 0.077, 'bfD': 0.084, 'exp': 0.041 }]"
   ]
  }
 ],
 "metadata": {
  "kernelspec": {
   "display_name": "Python 3",
   "language": "python",
   "name": "python3"
  },
  "language_info": {
   "codemirror_mode": {
    "name": "ipython",
    "version": 3
   },
   "file_extension": ".py",
   "mimetype": "text/x-python",
   "name": "python",
   "nbconvert_exporter": "python",
   "pygments_lexer": "ipython3",
   "version": "3.7.3"
  }
 },
 "nbformat": 4,
 "nbformat_minor": 2
}
